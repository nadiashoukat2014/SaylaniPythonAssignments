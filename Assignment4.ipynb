{
 "cells": [
  {
   "cell_type": "code",
   "execution_count": 1,
   "metadata": {},
   "outputs": [
    {
     "name": "stdout",
     "output_type": "stream",
     "text": [
      "Question #1\n",
      "============\n",
      "{'first_name': 'Ali', 'last_name': 'Shoukat Ali', 'Age': '24', 'city': 'Karachi'}\n",
      "{'first_name': 'Ali', 'last_name': 'Shoukat Ali', 'Age': '24', 'city': 'Karachi', 'qualification': 'bachlors'}\n",
      "{'first_name': 'Ali', 'last_name': 'Shoukat Ali', 'Age': '24', 'city': 'Karachi'}\n"
     ]
    }
   ],
   "source": [
    "print(\"Question #1\")\n",
    "print(\"============\")\n",
    "person={\"first_name\": \"Ali\", \"last_name\": \"Shoukat Ali\",\"Age\": \"24\", \"city\": \"Karachi\"}\n",
    "print(person)\n",
    "person[\"qualification\"] = \"bachlors\" \n",
    "print(person)\n",
    "del person[\"qualification\"]\n",
    "print(person)"
   ]
  },
  {
   "cell_type": "code",
   "execution_count": 13,
   "metadata": {},
   "outputs": [
    {
     "name": "stdout",
     "output_type": "stream",
     "text": [
      "ANSWER #2\n",
      "==========\n",
      "{'country': 'Pakistan', 'population': '14.91million', 'fact': 'City of lights'}\n"
     ]
    }
   ],
   "source": [
    "print(\"ANSWER #2\")\n",
    "print(\"==========\")\n",
    "cities={\n",
    "    \"karachi\":{\n",
    "        \"country\":\"Pakistan\",\n",
    "        \"population\":\"14.91million\",\n",
    "        \"fact\":\"City of lights\"\n",
    "    },\n",
    "   \"Islamabad\":{\n",
    "        \"Country\":\"pakistan\",\n",
    "        \"population\":\"1.015million\",\n",
    "       \"Fact\":\"Beautifull\"\n",
    "    }\n",
    "}\n",
    "print(cities[\"karachi\"])"
   ]
  },
  {
   "cell_type": "code",
   "execution_count": 10,
   "metadata": {},
   "outputs": [
    {
     "name": "stdout",
     "output_type": "stream",
     "text": [
      "One of my favourite book is Alice in Wonderland.\n"
     ]
    }
   ],
   "source": [
    "print(\"ANSWER #4\")\n",
    "print(\"==========\")\n",
    "def favorite_book(title):\n",
    "    print(\"One of my favourite book is \" + title)\n",
    "favorite_book('Alice in Wonderland.')"
   ]
  },
  {
   "cell_type": "code",
   "execution_count": 46,
   "metadata": {},
   "outputs": [
    {
     "name": "stdout",
     "output_type": "stream",
     "text": [
      "ANSWER #5\n",
      "==========\n"
     ]
    },
    {
     "name": "stdin",
     "output_type": "stream",
     "text": [
      "Guess correcect number 8\n"
     ]
    },
    {
     "name": "stdout",
     "output_type": "stream",
     "text": [
      "Fail\n",
      "17\n"
     ]
    }
   ],
   "source": [
    "print(\"ANSWER #5\")\n",
    "print(\"==========\")\n",
    "import random\n",
    "user = int(input(\"Guess correcect number\"))\n",
    "if random == user:\n",
    "    print('winner')\n",
    "else:\n",
    "    print(\"Fail\")\n",
    "print(random.randint(0,30))\n"
   ]
  },
  {
   "cell_type": "code",
   "execution_count": 4,
   "metadata": {},
   "outputs": [
    {
     "name": "stdout",
     "output_type": "stream",
     "text": [
      "Guess number bwteen 1 to 30\n"
     ]
    },
    {
     "name": "stdin",
     "output_type": "stream",
     "text": [
      " 5\n"
     ]
    },
    {
     "name": "stdout",
     "output_type": "stream",
     "text": [
      "Hint: Number is Less than\n",
      "Guess number bwteen 1 to 30\n"
     ]
    },
    {
     "name": "stdin",
     "output_type": "stream",
     "text": [
      " 2\n"
     ]
    },
    {
     "name": "stdout",
     "output_type": "stream",
     "text": [
      "Hint: Number is Less than\n",
      "Guess number bwteen 1 to 30\n"
     ]
    },
    {
     "name": "stdin",
     "output_type": "stream",
     "text": [
      " 1\n"
     ]
    },
    {
     "name": "stdout",
     "output_type": "stream",
     "text": [
      "Hint: Number is Less than\n",
      "You did not guess the number. The number was 22\n"
     ]
    }
   ],
   "source": [
    "import random\n",
    "\n",
    "number =  random.randint(1, 30)\n",
    "\n",
    "number_of_guesses = 0\n",
    "\n",
    "while number_of_guesses < 3:\n",
    "    print(\"Guess number bwteen 1 to 30\")\n",
    "    \n",
    "    guess = int(input())\n",
    "    \n",
    "    number_of_guesses = number_of_guesses + 1\n",
    "    \n",
    "    if guess > number:\n",
    "            print(\"Hint: NUmber is greater than\")\n",
    "            \n",
    "    if guess < number:\n",
    "            print(\"Hint: Number is Less than\")\n",
    "            \n",
    "    if guess == number:\n",
    "        break\n",
    "if guess == number:\n",
    "    print('You guessed the number in ' + str(number_of_guesses) + ' tries!')\n",
    "\n",
    "else:\n",
    "    print('You did not guess the number. The number was ' + str(number))"
   ]
  },
  {
   "cell_type": "code",
   "execution_count": 1,
   "metadata": {},
   "outputs": [
    {
     "name": "stdout",
     "output_type": "stream",
     "text": [
      "Guess a number between 1 and 25:\n"
     ]
    },
    {
     "name": "stdin",
     "output_type": "stream",
     "text": [
      " 3\n"
     ]
    },
    {
     "name": "stdout",
     "output_type": "stream",
     "text": [
      "Guess a number between 1 and 25:\n"
     ]
    },
    {
     "name": "stdin",
     "output_type": "stream",
     "text": [
      " 12\n"
     ]
    }
   ],
   "source": [
    "import random\n",
    "\n",
    "number = random.randint(1, 25)\n",
    "\n",
    "number_of_guesses = 0\n",
    "\n",
    "while number_of_guesses < 2:\n",
    "    print('Guess a number between 1 and 25:')\n",
    "\n",
    "    guess = input()\n",
    "    guess = int(guess)\n",
    "\n",
    "    number_of_guesses = number_of_guesses + 1\n",
    "\n",
    "    if guess == number:\n",
    "        print(number)\n",
    "        break\n",
    "       "
   ]
  },
  {
   "cell_type": "code",
   "execution_count": null,
   "metadata": {},
   "outputs": [],
   "source": []
  }
 ],
 "metadata": {
  "kernelspec": {
   "display_name": "Python 3",
   "language": "python",
   "name": "python3"
  },
  "language_info": {
   "codemirror_mode": {
    "name": "ipython",
    "version": 3
   },
   "file_extension": ".py",
   "mimetype": "text/x-python",
   "name": "python",
   "nbconvert_exporter": "python",
   "pygments_lexer": "ipython3",
   "version": "3.7.3"
  }
 },
 "nbformat": 4,
 "nbformat_minor": 4
}
