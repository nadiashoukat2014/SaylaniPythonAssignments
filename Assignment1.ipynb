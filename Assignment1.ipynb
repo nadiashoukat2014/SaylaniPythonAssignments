{
 "cells": [
  {
   "cell_type": "code",
   "execution_count": 2,
   "metadata": {},
   "outputs": [
    {
     "name": "stdout",
     "output_type": "stream",
     "text": [
      "Twinkle, twinkle, little star,\n",
      "\tHow I wonder what you are!\n",
      "\t \tUp above the world so high,\n",
      "\t\tLike a diamond in the sky. \n",
      " Twinkle, twinkle, little star,  \n",
      "\tHow I wonder what you are!\n"
     ]
    }
   ],
   "source": [
    "text=\"Twinkle, twinkle, little star,\\n\\tHow I wonder what you are!\\n\\t \\tUp above the world so high,\\n\\t\\tLike a diamond in the sky. \\n Twinkle, twinkle, little star,  \\n\\tHow I wonder what you are!\"\n",
    "print(text)\n"
   ]
  },
  {
   "cell_type": "code",
   "execution_count": 3,
   "metadata": {},
   "outputs": [
    {
     "name": "stdout",
     "output_type": "stream",
     "text": [
      "3.7.4 (default, Aug  9 2019, 18:34:13) [MSC v.1915 64 bit (AMD64)]\n"
     ]
    }
   ],
   "source": [
    "import sys\n",
    "print (sys.version)"
   ]
  },
  {
   "cell_type": "code",
   "execution_count": 4,
   "metadata": {},
   "outputs": [
    {
     "name": "stdout",
     "output_type": "stream",
     "text": [
      "2019-10-31 22:58:23.403516\n"
     ]
    }
   ],
   "source": [
    "from datetime import datetime\n",
    "print(datetime.now())"
   ]
  },
  {
   "cell_type": "code",
   "execution_count": 10,
   "metadata": {},
   "outputs": [
    {
     "name": "stdout",
     "output_type": "stream",
     "text": [
      "Please type radius of a circle ! 2\n",
      "Radius of  a circle : 2.0 is =12.566370614359172\n"
     ]
    }
   ],
   "source": [
    "from math import pi\n",
    "rad = float(input(\"Please type radius of a circle ! \"))\n",
    "print(\"Radius of  a circle : \"+ str(rad) + \" is =\" + str(pi * rad**2))"
   ]
  },
  {
   "cell_type": "code",
   "execution_count": 12,
   "metadata": {},
   "outputs": [
    {
     "name": "stdout",
     "output_type": "stream",
     "text": [
      "Please type First Name: Nadia\n",
      "Please type Last Name :Shoukat\n",
      "Shoukat Nadia\n"
     ]
    }
   ],
   "source": [
    "fname = input(\"Please type First Name: \")\n",
    "lname = input(\"Please type Last Name :\")\n",
    "print (lname + \" \" +fname)"
   ]
  },
  {
   "cell_type": "code",
   "execution_count": 22,
   "metadata": {},
   "outputs": [
    {
     "name": "stdout",
     "output_type": "stream",
     "text": [
      "Please type Value 1 :7\n",
      "Please type Value 2 :9\n",
      "16\n"
     ]
    }
   ],
   "source": [
    "InputOne = input(\"Please type Value 1 :\")\n",
    "InputTwo = input(\"Please type Value 2 :\")\n",
    "sum = int(InputOne) + int(InputTwo)\n",
    "print(sum)"
   ]
  },
  {
   "cell_type": "code",
   "execution_count": null,
   "metadata": {},
   "outputs": [],
   "source": []
  }
 ],
 "metadata": {
  "kernelspec": {
   "display_name": "Python 3",
   "language": "python",
   "name": "python3"
  },
  "language_info": {
   "codemirror_mode": {
    "name": "ipython",
    "version": 3
   },
   "file_extension": ".py",
   "mimetype": "text/x-python",
   "name": "python",
   "nbconvert_exporter": "python",
   "pygments_lexer": "ipython3",
   "version": "3.7.4"
  }
 },
 "nbformat": 4,
 "nbformat_minor": 2
}
