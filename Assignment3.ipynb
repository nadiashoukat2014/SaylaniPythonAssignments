{
 "cells": [
  {
   "cell_type": "code",
   "execution_count": 1,
   "metadata": {},
   "outputs": [
    {
     "name": "stdin",
     "output_type": "stream",
     "text": [
      "enter first number:  3\n",
      "enter 2nd number:  4\n"
     ]
    },
    {
     "name": "stdout",
     "output_type": "stream",
     "text": [
      "Please select operation \n",
      " 1. Add\n",
      "2. Subtract\n",
      "3. Multiply\n",
      "4. Divide\n",
      "5. power\n",
      "\n"
     ]
    },
    {
     "name": "stdin",
     "output_type": "stream",
     "text": [
      "Please select 1,2,3,or 4 : 2\n"
     ]
    },
    {
     "name": "stdout",
     "output_type": "stream",
     "text": [
      "3 - 4 = -1\n"
     ]
    }
   ],
   "source": [
    "num1 = int(input(\"enter first number: \"))\n",
    "num2 = int(input(\"enter 2nd number: \"))\n",
    "def add_numbers(num1, num2):\n",
    "    add = num1 + num2\n",
    "    return add\n",
    " \n",
    "def subtr(num1, num2):\n",
    "    subtract = num1 - num2\n",
    "    return subtract\n",
    "\n",
    "def mult(num1, num2):\n",
    "    mult = num1 * num2\n",
    "    return mult\n",
    "\n",
    "def div(num1, num2):\n",
    "    devis = num1 / num2\n",
    "    return devis\n",
    "\n",
    "def power(num1, num2):\n",
    "    power = num1 ** num2\n",
    "    return power\n",
    "\n",
    "print(\"Please select operation \\n 1. Add\\n\" \n",
    "        \"2. Subtract\\n\" \n",
    "        \"3. Multiply\\n\"\n",
    "        \"4. Divide\\n\"\n",
    "        \"5. power\\n\") \n",
    "select = input(\"Please select 1,2,3,or 4 :\")\n",
    "if select == '1':\n",
    "    print(num1,\"+\",num2,\"=\",add_numbers(num1, num2))\n",
    "elif select == '2': \n",
    "    print(num1, \"-\", num2, \"=\",subtr(num1, num2))\n",
    "elif select == '3':\n",
    "    print(num1,\"x\",num2,\"=\",mult(num1, num2))\n",
    "elif select == '4':\n",
    "    print(num1,\"/\",num2,\"=\",div(num1, num2))\n",
    "elif select == '5':\n",
    "    print(\"Power is:\",power(num1, num2))\n",
    "else:\n",
    "    print(\"Invalid Value\")"
   ]
  },
  {
   "cell_type": "code",
   "execution_count": 2,
   "metadata": {},
   "outputs": [
    {
     "name": "stdout",
     "output_type": "stream",
     "text": [
      "QUESTION # 3\n",
      "===============\n",
      "{0: 'Nadia', 1: 'Python'}\n",
      "{0: 'Nadia', 1: 'Python', 2: 'udatedValue'}\n"
     ]
    }
   ],
   "source": [
    "print(\"QUESTION # 3\")\n",
    "print(\"===============\")\n",
    "names = {0: \"Nadia\", 1: \"Python\"}\n",
    "print(names)\n",
    "names.update({2:\"udatedValue\"})\n",
    "print(names)"
   ]
  },
  {
   "cell_type": "code",
   "execution_count": 9,
   "metadata": {},
   "outputs": [
    {
     "name": "stdout",
     "output_type": "stream",
     "text": [
      "QUESTION #4\n",
      "=============\n",
      "Dictionary:  {'x': 250, 'y': 500, 'z': 410}\n",
      "Total sum of Dictionry is : 1160\n"
     ]
    }
   ],
   "source": [
    "print(\"QUESTION #4\")\n",
    "print(\"=============\")\n",
    "myDict = {'x': 250, 'y':500, 'z':410}\n",
    "print(\"Dictionary: \",myDict)\n",
    "\n",
    "total = 0\n",
    "\n",
    "for i in myDict:\n",
    "    total = total + myDict[i]\n",
    "print(\"Total sum of Dictionry is :\", total)"
   ]
  },
  {
   "cell_type": "code",
   "execution_count": 16,
   "metadata": {},
   "outputs": [
    {
     "name": "stdout",
     "output_type": "stream",
     "text": [
      "Dictionary:  {'x': 250, 'y': 500, 'z': 410}\n"
     ]
    },
    {
     "name": "stdin",
     "output_type": "stream",
     "text": [
      "Please type x , y or z i\n"
     ]
    },
    {
     "name": "stdout",
     "output_type": "stream",
     "text": [
      "Please type above mentioned key only\n"
     ]
    }
   ],
   "source": [
    "myDict = {'x': 250, 'y':500, 'z':410}\n",
    "print(\"Dictionary: \",myDict)\n",
    "keyInput = input(\"Please type x , y or z\")\n",
    "if keyInput in myDict.keys():\n",
    "    print(\"Key exist\")\n",
    "elif keyInput in myDict.keys():\n",
    "    print(\"doesn't exist\")\n",
    "else:\n",
    "    print(\"Please type above mentioned key only\")"
   ]
  },
  {
   "cell_type": "code",
   "execution_count": null,
   "metadata": {},
   "outputs": [],
   "source": []
  }
 ],
 "metadata": {
  "kernelspec": {
   "display_name": "Python 3",
   "language": "python",
   "name": "python3"
  },
  "language_info": {
   "codemirror_mode": {
    "name": "ipython",
    "version": 3
   },
   "file_extension": ".py",
   "mimetype": "text/x-python",
   "name": "python",
   "nbconvert_exporter": "python",
   "pygments_lexer": "ipython3",
   "version": "3.7.3"
  }
 },
 "nbformat": 4,
 "nbformat_minor": 4
}
